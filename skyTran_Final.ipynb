{
 "cells": [
  {
   "cell_type": "markdown",
   "metadata": {},
   "source": [
    "# <center>Modeling and Simulation of the skyTran MagLev Personal Rapid Transit Vehicle</center>\n",
    "#### <center> - Abhinav Kamath</center>\n",
    "#### <center> Professor: Dr. Jason Moore</center>"
   ]
  },
  {
   "cell_type": "markdown",
   "metadata": {},
   "source": [
    "<br>\n",
    "\n",
    "<center><video controls src=\"Media/skyTran_web1.mov\" width=\"750\" /></center>\n",
    "\n",
    "##### <center>The skyTran network of personal rapid transit vehicles. Credit: skyTran</center>"
   ]
  },
  {
   "cell_type": "markdown",
   "metadata": {},
   "source": [
    "## 1. Motivation\n",
    "\n",
    "___skyTran___ is an elevated transportation infrastructure that utilizes a patented method of passive magnetic levitation (MagLev). Unlike other forms of passive MagLev, the _Bogie_ reacts against vertical conductive surfaces. The _Bogie_ is the driving portion of the vehicle; the passenger-carrying portion hangs below the track and is called the _Pod_. This design enables the vehicle to control its altitude in software. A strong simulation environment is critical to developing control algorithms without putting hardware at risk. \n",
    "\n",
    "__The objective of this project is to model and simulate the vehicle, and to then to determine a favorable maximum levitation height by analyzing the stability of the vehicle system at different maximum-height levitation regimes.__"
   ]
  },
  {
   "cell_type": "markdown",
   "metadata": {},
   "source": [
    "<img src=\"Media/skyTran-vehicle.png\" width=\"750\"/>\n",
    "\n",
    "##### <center>Figure 1: A render of the skyTran MagLev vehicle. Credit: skyTran</center>"
   ]
  },
  {
   "cell_type": "markdown",
   "metadata": {},
   "source": [
    "## 2. Background\n",
    "\n",
    "Conventional trains leverage the friction between wheels and rails to drive forward. In contrast, a MagLev vehicle levitates on a guideway, replacing wheels with electromagnets. Levitation is advantageous in numerous ways, such as high speeds, reduction in maintenance costs, reduced noise and vibration levels, quick acceleration and deceleration, and so on. This technology also facilitates emission-free mass transportation.\n",
    "\n",
    "Though the concept of MagLev trains was introduced in the 1930s, the\n",
    "technology reached maturity only in the 1980s. The first practical\n",
    "public MagLev train service was launched in Shanghai in 2003. Advances\n",
    "in modern technology have enabled full-scale implementation of MagLev\n",
    "trains, which are currently operational in many countries. NASA has\n",
    "investigated the concept of Magnetic Launch Assist, which makes use of\n",
    "both magnetic levitation and magnetic propulsion to propel launch\n",
    "vehicles to 183 meters per second in less than 10 seconds.\n",
    "\n",
    "*skyTran* is a novel take on the personal rapid transit (PRT)\n",
    "infrastructure, making use of a network of lightweight *Pods* that run\n",
    "on elevated guideways, thus facilitating transportation of people and\n",
    "freight from one place to another without the need for intermediate\n",
    "stops."
   ]
  },
  {
   "cell_type": "markdown",
   "metadata": {},
   "source": [
    "## 3. Problem Formulation"
   ]
  },
  {
   "cell_type": "markdown",
   "metadata": {},
   "source": [
    "<img src=\"Media/SDS3_Image_A.JPG\" width=\"750\"/>\n",
    "\n",
    "##### <center>Figure 2: A CAD-model of the Split-Bogie configuration of the vehicle. Credit: skyTran</center>"
   ]
  },
  {
   "cell_type": "markdown",
   "metadata": {},
   "source": [
    "### 3.1 The Vehicle\n",
    "\n",
    "The vehicle system that has been modeled, simulated and analyzed, is the *Bogie*, which is a cart-like rectangular vehicle with a rotary bearing connecting the front and rear chassis shown in figure 2. It has four wheels, one at each corner of the body, and four magnetic *wings*, which, at a high-level, function like an airfoil/fixed-wing, with the ability to effect a lift force on the vehicle. The vehicle is propelled using an axial motor belt and is centered using a set of urethane wheels that roll against the reaction plates, which are shown in figure 3."
   ]
  },
  {
   "cell_type": "markdown",
   "metadata": {},
   "source": [
    "<img src=\"Media/views.png\" width=\"350\"/>\n",
    "\n",
    "##### <center>Figure 3: Principal views of the vehicle. Credit: skyTran</center>"
   ]
  },
  {
   "cell_type": "markdown",
   "metadata": {},
   "source": [
    "### 3.2 Dynamics\n",
    "\n",
    "The vehicle is subject to five important classes of force & torque\n",
    "inputs:\n",
    "\n",
    "#### 3.2.1 Magnetic *Wing*: Magnetic Lift and Drag Forces\n",
    "\n",
    "The vehicle has four *wings*, located at the corners of the rectangular\n",
    "*Bogie* body. A simplified black-box model of the *wing* as shown in\n",
    "figure 4 will be considered for the purpose of this project.\n",
    "\n",
    "The forces effected by the *wing* arise from the interaction of eddy\n",
    "currents that are induced by the motion of the wing, with the conductive\n",
    "track plate (figure 4)."
   ]
  },
  {
   "cell_type": "markdown",
   "metadata": {},
   "source": [
    "<img src=\"Media/magwing.png\" width=\"400\"/>\n",
    "\n",
    "##### <center>Figure 4: The Magnetic Wing. Credit: skyTran</center>"
   ]
  },
  {
   "cell_type": "markdown",
   "metadata": {},
   "source": [
    "#### 3.2.2 *Wing* Actuators: Pitching Moment\n",
    "\n",
    "The *wing* actuators cause pitching moments between the chassis and the\n",
    "*wing*.\n",
    "\n",
    "#### 3.2.3 Wheels: Normal Force\n",
    "\n",
    "The vehicle has four wheels, located beneath the *wings*. They are\n",
    "active before *lift-off*; *lift-off* is achieved when vehicle reaches\n",
    "critical velocity.\n",
    "\n",
    "#### 3.2.4 Belt: Drive Force\n",
    "\n",
    "The belt pulls the vehicle forward x-direction.\n",
    "\n",
    "#### 3.2.5 Belt: Centering Force\n",
    "\n",
    "The belt also provides a lateral centering force, keeping the vehicle\n",
    "very near y=0."
   ]
  },
  {
   "cell_type": "markdown",
   "metadata": {},
   "source": [
    "### 4. The Vehicle Model\n",
    "\n",
    "A simplified version of the vehicle has been modeled. The independent rotational degree of freedom between the front and rear chassis has been eliminated in order to speed-up computation. It is assumed that the track, as defined by motor force direction and reaction plates, is straight, and that there is negligible yaw and lateral motion. \n",
    "\n",
    "The magnetic *wings* are at a fixed angle for each simulation run. Gravitational, propulsive, frictional and lift forces have been considered. The drag force is assumed to be negligible. The lift force has been modeled as a function of the pitch-angles of the wings, the speed of the mass-center of the vehicle in the axial direction, and the levitation height. "
   ]
  },
  {
   "cell_type": "markdown",
   "metadata": {},
   "source": [
    "<img src=\"Media/mag_wing.png\" width=\"500\"/>\n",
    "\n",
    "##### <center>Figure 5: The lift force generated by the magnetic wing. Credit: skyTran</center>"
   ]
  },
  {
   "cell_type": "markdown",
   "metadata": {},
   "source": [
    "The magnetic lift-force generated by each wing is modeled as follows:\n",
    "\n",
    "$\\begin{equation}\\label{eq2}\n",
    "    F_L = C_L V_x sin(\\alpha) (H-dz)\n",
    "\\end{equation}$\n",
    "\n",
    "where, \n",
    "\n",
    "$F_L \\rightarrow$ The lift-force\n",
    "\n",
    "$C_L \\rightarrow$ The coefficient of lift\n",
    "\n",
    "$V_x \\rightarrow$ The axial speed of the vehicle\n",
    "\n",
    "$\\alpha \\rightarrow$ The pitch-angle of the wing\n",
    "\n",
    "$H \\rightarrow$ The maximum levitation height \n",
    "\n",
    "$dz \\rightarrow$ The altitude of the vehicle\n",
    "\n",
    "The modeled vehicle is shown in figure 6."
   ]
  },
  {
   "cell_type": "markdown",
   "metadata": {},
   "source": [
    "<img src=\"Media/Model.png\" width=\"350\"/>\n",
    "\n",
    "##### <center>Figure 6: The Vehicle Model</center>"
   ]
  },
  {
   "cell_type": "markdown",
   "metadata": {},
   "source": [
    "## 5. Modeling"
   ]
  },
  {
   "cell_type": "markdown",
   "metadata": {},
   "source": [
    "### 5.1 Dependencies"
   ]
  },
  {
   "cell_type": "code",
   "execution_count": 1,
   "metadata": {},
   "outputs": [],
   "source": [
    "import sympy as sm\n",
    "import sympy.physics.mechanics as me\n",
    "from pydy.system import System\n",
    "import numpy as np\n",
    "import matplotlib.pyplot as plt\n",
    "from scipy.integrate import odeint\n",
    "me.init_vprinting()"
   ]
  },
  {
   "cell_type": "markdown",
   "metadata": {},
   "source": [
    "### 5.2 Reference Frames"
   ]
  },
  {
   "cell_type": "markdown",
   "metadata": {},
   "source": [
    "Reference frames are attached to the track (inertial) and each of the five rigid bodies. The reference frame of the _Bogie_ is oriented relative to the inertial reference frame and the _wings_ are oriented relative to the _Bogie_."
   ]
  },
  {
   "cell_type": "code",
   "execution_count": 2,
   "metadata": {},
   "outputs": [],
   "source": [
    "N = me.ReferenceFrame('N') # Inertial Reference Frame\n",
    "\n",
    "bpitch, broll = me.dynamicsymbols('b_pitch, b_roll')\n",
    "\n",
    "B = N.orientnew('B', 'Body', [-bpitch, broll, 0], 'YXZ')\n",
    "\n",
    "alpha1, alpha2, alpha3, alpha4 = sm.symbols('alpha_1, alpha_2, alpha_3, alpha_4')\n",
    "\n",
    "W1 = B.orientnew('W1', 'Axis', [alpha1, -B.y])\n",
    "W2 = B.orientnew('W2', 'Axis', [alpha2, -B.y])\n",
    "W3 = B.orientnew('W3', 'Axis', [alpha3, -B.y])\n",
    "W4 = B.orientnew('W4', 'Axis', [alpha4, -B.y])"
   ]
  },
  {
   "cell_type": "markdown",
   "metadata": {},
   "source": [
    "### 5.3 Points"
   ]
  },
  {
   "cell_type": "markdown",
   "metadata": {},
   "source": [
    "The position vectors of significant points (in the sense of the applicability of Kane's method) are defined."
   ]
  },
  {
   "cell_type": "code",
   "execution_count": 3,
   "metadata": {},
   "outputs": [],
   "source": [
    "O = me.Point('O') # fixed point in the inertial reference frame\n",
    "O.set_vel(N, 0)"
   ]
  },
  {
   "cell_type": "markdown",
   "metadata": {},
   "source": [
    "#### 5.3.1 Mass Centers"
   ]
  },
  {
   "cell_type": "code",
   "execution_count": 4,
   "metadata": {},
   "outputs": [],
   "source": [
    "dx, dz = me.dynamicsymbols('d_x, d_z') # coordinates of the mass-center of the vehicle relative to the point fixed in the inertial reference frame\n",
    "lb, wb, hb = sm.symbols('l_b, w_b, h_b') # length, width and height of the Bogie\n",
    "lw, ww, hw = sm.symbols('l_w, w_w, h_w') # length, width and height of each Wing"
   ]
  },
  {
   "cell_type": "code",
   "execution_count": 5,
   "metadata": {},
   "outputs": [],
   "source": [
    "MB = O.locatenew('M_B', dx * N.x + dz * N.z)"
   ]
  },
  {
   "cell_type": "code",
   "execution_count": 6,
   "metadata": {},
   "outputs": [],
   "source": [
    "MW1 = MB.locatenew('M_W1', (1/6) * lb * B.x - (1/2) * wb * B.y - (1/2) * ww * W1.y)"
   ]
  },
  {
   "cell_type": "code",
   "execution_count": 7,
   "metadata": {},
   "outputs": [],
   "source": [
    "MW2 = MB.locatenew('M_W2', (1/6) * lb * B.x + (1/2) * wb * B.y + (1/2) * ww * W1.y)"
   ]
  },
  {
   "cell_type": "code",
   "execution_count": 8,
   "metadata": {},
   "outputs": [],
   "source": [
    "MW3 = MB.locatenew('M_W3', - (1/6) * lb * B.x - (1/2) * wb * B.y - (1/2) * ww * W1.y)"
   ]
  },
  {
   "cell_type": "code",
   "execution_count": 9,
   "metadata": {},
   "outputs": [],
   "source": [
    "MW4 = MB.locatenew('M_W4', - (1/6) * lb * B.x + (1/2) * wb * B.y + (1/2) * ww * W1.y)"
   ]
  },
  {
   "cell_type": "markdown",
   "metadata": {},
   "source": [
    "#### 5.3.2 Wheels"
   ]
  },
  {
   "cell_type": "code",
   "execution_count": 10,
   "metadata": {},
   "outputs": [],
   "source": [
    "P1 = MB.locatenew('P_1', (1/2) * lb * B.x - (1/2) * wb * B.y - (1/2) * hb * B.z)"
   ]
  },
  {
   "cell_type": "code",
   "execution_count": 11,
   "metadata": {},
   "outputs": [],
   "source": [
    "P2 = MB.locatenew('P_2', (1/2) * lb * B.x + (1/2) * wb * B.y - (1/2) * hb * B.z)"
   ]
  },
  {
   "cell_type": "code",
   "execution_count": 12,
   "metadata": {},
   "outputs": [],
   "source": [
    "P3 = MB.locatenew('P_3', - (1/2) * lb * B.x - (1/2) * wb * B.y - (1/2) * hb * B.z)"
   ]
  },
  {
   "cell_type": "code",
   "execution_count": 13,
   "metadata": {},
   "outputs": [],
   "source": [
    "P4 = MB.locatenew('P_4', - (1/2) * lb * B.x + (1/2) * wb * B.y - (1/2) * hb * B.z)"
   ]
  },
  {
   "cell_type": "markdown",
   "metadata": {},
   "source": [
    "### 5.4 Kinematical Differential Equations"
   ]
  },
  {
   "cell_type": "markdown",
   "metadata": {},
   "source": [
    "The vehicle in the chosen configuration has four independent generalized coordinates: The axial speed of the mass-center of the vehicle, $d_x$, the vertical speed of the mass-center of the vehicle, $d_z$, the pitch-angle of the _Bogie_, $b_{pitch}$, and the roll-angle of the _Bogie_, $b_{roll}$. The generalized speeds are chosen to be the time-derivatives of the independent generalized coordinates. The system is holonomic."
   ]
  },
  {
   "cell_type": "code",
   "execution_count": 14,
   "metadata": {},
   "outputs": [],
   "source": [
    "u_dx = me.dynamicsymbols('u_d_x')\n",
    "u_dz = me.dynamicsymbols('u_d_z')\n",
    "u_bpitch = me.dynamicsymbols('u_b__pitch')\n",
    "u_broll = me.dynamicsymbols('u_b__roll')"
   ]
  },
  {
   "cell_type": "code",
   "execution_count": 15,
   "metadata": {},
   "outputs": [
    {
     "data": {
      "image/png": "[encoded data removed]",
      "text/latex": [
       "$\\displaystyle \\left\\{ \\dot{b}_{pitch} : u^{pitch}_{b}, \\  \\dot{b}_{roll} : u^{roll}_{b}, \\  \\dot{d}_{x} : u_{dx}, \\  \\dot{d}_{z} : u_{dz}\\right\\}$"
      ],
      "text/plain": [
       "{b_pi̇tch: u_b__pitch, bᵣₒ̇ₗₗ: u_b__roll, dₓ̇: u_d_x, d_̇z: u_d_z}"
      ]
     },
     "execution_count": 15,
     "metadata": {},
     "output_type": "execute_result"
    }
   ],
   "source": [
    "z1 = sm.Eq(u_dx, dx.diff())\n",
    "z2 = sm.Eq(u_dz, dz.diff())\n",
    "z3 = sm.Eq(u_bpitch, bpitch.diff())\n",
    "z4 = sm.Eq(u_broll, broll.diff())\n",
    "u = sm.solve([z1, z2, z3, z4], dx.diff(), dz.diff(), bpitch.diff(), broll.diff())\n",
    "u"
   ]
  },
  {
   "cell_type": "markdown",
   "metadata": {},
   "source": [
    "### 5.5 Velocities"
   ]
  },
  {
   "cell_type": "markdown",
   "metadata": {},
   "source": [
    "The linear velocities of the significant points are defined. The generalized speeds are substituted in place of the derivatives of the independent generalized coordinates, and the resulting expressions are functions of the independent generalized coordinates and the generalized speeds only."
   ]
  },
  {
   "cell_type": "markdown",
   "metadata": {},
   "source": [
    "#### 5.5.1 Velocities of the mass centers"
   ]
  },
  {
   "cell_type": "code",
   "execution_count": 16,
   "metadata": {},
   "outputs": [
    {
     "data": {
      "image/png": "[encoded data removed]",
      "text/latex": [
       "$\\displaystyle u_{dx}\\mathbf{\\hat{n}_x} + u_{dz}\\mathbf{\\hat{n}_z}$"
      ],
      "text/plain": [
       "u_d_x n_x + u_d_z n_z"
      ]
     },
     "execution_count": 16,
     "metadata": {},
     "output_type": "execute_result"
    }
   ],
   "source": [
    "MB.set_vel(N, MB.pos_from(O).dt(N))\n",
    "\n",
    "N_v_MB = MB.vel(N).subs(u)\n",
    "N_v_MB"
   ]
  },
  {
   "cell_type": "code",
   "execution_count": 17,
   "metadata": {},
   "outputs": [
    {
     "data": {
      "image/png": "[encoded data removed]",
      "text/latex": [
       "$\\displaystyle u_{dx}\\mathbf{\\hat{n}_x} + u_{dz}\\mathbf{\\hat{n}_z} + 0.5 w_{b} u^{pitch}_{b} \\operatorname{sin}\\left(b_{roll}\\right)\\mathbf{\\hat{b}_x} + 0.166666666666667 l_{b} u^{pitch}_{b} \\operatorname{sin}\\left(b_{roll}\\right)\\mathbf{\\hat{b}_y} + (0.166666666666667 l_{b} u^{pitch}_{b} \\operatorname{cos}\\left(b_{roll}\\right) - 0.5 w_{b} u^{roll}_{b})\\mathbf{\\hat{b}_z} + 0.5 w_{w} \\left(u^{pitch}_{b} \\operatorname{sin}\\left(b_{roll}\\right) \\operatorname{cos}\\left(\\alpha_{1}\\right) - u^{roll}_{b} \\operatorname{sin}\\left(\\alpha_{1}\\right)\\right)\\mathbf{\\hat{w1}_x} -  0.5 w_{w} \\left(u^{pitch}_{b} \\operatorname{sin}\\left(\\alpha_{1}\\right) \\operatorname{sin}\\left(b_{roll}\\right) + u^{roll}_{b} \\operatorname{cos}\\left(\\alpha_{1}\\right)\\right)\\mathbf{\\hat{w1}_z}$"
      ],
      "text/plain": [
       "u_d_x n_x + u_d_z n_z + 0.5⋅w_b⋅u_b__pitch⋅sin(bᵣₒₗₗ) b_x + 0.166666666666667⋅\n",
       "l_b⋅u_b__pitch⋅sin(bᵣₒₗₗ) b_y + (0.166666666666667⋅l_b⋅u_b__pitch⋅cos(bᵣₒₗₗ) -\n",
       " 0.5⋅w_b⋅u_b__roll) b_z + 0.5⋅w_w⋅(u_b__pitch⋅sin(bᵣₒₗₗ)⋅cos(α₁) - u_b__roll⋅s\n",
       "in(α₁)) w1_x + -0.5⋅w_w⋅(u_b__pitch⋅sin(α₁)⋅sin(bᵣₒₗₗ) + u_b__roll⋅cos(α₁)) w1\n",
       "_z"
      ]
     },
     "execution_count": 17,
     "metadata": {},
     "output_type": "execute_result"
    }
   ],
   "source": [
    "N_v_MW1 = MW1.v2pt_theory(MB, N, B).subs(u).simplify()\n",
    "N_v_MW1"
   ]
  },
  {
   "cell_type": "code",
   "execution_count": 18,
   "metadata": {},
   "outputs": [
    {
     "data": {
      "image/png": "[encoded data removed]",
      "text/latex": [
       "$\\displaystyle u_{dx}\\mathbf{\\hat{n}_x} + u_{dz}\\mathbf{\\hat{n}_z} -  0.5 w_{b} u^{pitch}_{b} \\operatorname{sin}\\left(b_{roll}\\right)\\mathbf{\\hat{b}_x} + 0.166666666666667 l_{b} u^{pitch}_{b} \\operatorname{sin}\\left(b_{roll}\\right)\\mathbf{\\hat{b}_y} + (0.166666666666667 l_{b} u^{pitch}_{b} \\operatorname{cos}\\left(b_{roll}\\right) + 0.5 w_{b} u^{roll}_{b})\\mathbf{\\hat{b}_z} + 0.5 w_{w} \\left(- u^{pitch}_{b} \\operatorname{sin}\\left(b_{roll}\\right) \\operatorname{cos}\\left(\\alpha_{1}\\right) + u^{roll}_{b} \\operatorname{sin}\\left(\\alpha_{1}\\right)\\right)\\mathbf{\\hat{w1}_x} + 0.5 w_{w} \\left(u^{pitch}_{b} \\operatorname{sin}\\left(\\alpha_{1}\\right) \\operatorname{sin}\\left(b_{roll}\\right) + u^{roll}_{b} \\operatorname{cos}\\left(\\alpha_{1}\\right)\\right)\\mathbf{\\hat{w1}_z}$"
      ],
      "text/plain": [
       "u_d_x n_x + u_d_z n_z + -0.5⋅w_b⋅u_b__pitch⋅sin(bᵣₒₗₗ) b_x + 0.166666666666667\n",
       "⋅l_b⋅u_b__pitch⋅sin(bᵣₒₗₗ) b_y + (0.166666666666667⋅l_b⋅u_b__pitch⋅cos(bᵣₒₗₗ)\n",
       "+ 0.5⋅w_b⋅u_b__roll) b_z + 0.5⋅w_w⋅(-u_b__pitch⋅sin(bᵣₒₗₗ)⋅cos(α₁) + u_b__roll\n",
       "⋅sin(α₁)) w1_x + 0.5⋅w_w⋅(u_b__pitch⋅sin(α₁)⋅sin(bᵣₒₗₗ) + u_b__roll⋅cos(α₁)) w\n",
       "1_z"
      ]
     },
     "execution_count": 18,
     "metadata": {},
     "output_type": "execute_result"
    }
   ],
   "source": [
    "N_v_MW2 = MW2.v2pt_theory(MB, N, B).subs(u).simplify()\n",
    "N_v_MW2"
   ]
  },
  {
   "cell_type": "code",
   "execution_count": 19,
   "metadata": {},
   "outputs": [
    {
     "data": {
      "image/png": "[encoded data removed]",
      "text/latex": [
       "$\\displaystyle u_{dx}\\mathbf{\\hat{n}_x} + u_{dz}\\mathbf{\\hat{n}_z} + 0.5 w_{b} u^{pitch}_{b} \\operatorname{sin}\\left(b_{roll}\\right)\\mathbf{\\hat{b}_x} -  0.166666666666667 l_{b} u^{pitch}_{b} \\operatorname{sin}\\left(b_{roll}\\right)\\mathbf{\\hat{b}_y} + (- 0.166666666666667 l_{b} u^{pitch}_{b} \\operatorname{cos}\\left(b_{roll}\\right) - 0.5 w_{b} u^{roll}_{b})\\mathbf{\\hat{b}_z} + 0.5 w_{w} \\left(u^{pitch}_{b} \\operatorname{sin}\\left(b_{roll}\\right) \\operatorname{cos}\\left(\\alpha_{1}\\right) - u^{roll}_{b} \\operatorname{sin}\\left(\\alpha_{1}\\right)\\right)\\mathbf{\\hat{w1}_x} -  0.5 w_{w} \\left(u^{pitch}_{b} \\operatorname{sin}\\left(\\alpha_{1}\\right) \\operatorname{sin}\\left(b_{roll}\\right) + u^{roll}_{b} \\operatorname{cos}\\left(\\alpha_{1}\\right)\\right)\\mathbf{\\hat{w1}_z}$"
      ],
      "text/plain": [
       "u_d_x n_x + u_d_z n_z + 0.5⋅w_b⋅u_b__pitch⋅sin(bᵣₒₗₗ) b_x + -0.166666666666667\n",
       "⋅l_b⋅u_b__pitch⋅sin(bᵣₒₗₗ) b_y + (-0.166666666666667⋅l_b⋅u_b__pitch⋅cos(bᵣₒₗₗ)\n",
       " - 0.5⋅w_b⋅u_b__roll) b_z + 0.5⋅w_w⋅(u_b__pitch⋅sin(bᵣₒₗₗ)⋅cos(α₁) - u_b__roll\n",
       "⋅sin(α₁)) w1_x + -0.5⋅w_w⋅(u_b__pitch⋅sin(α₁)⋅sin(bᵣₒₗₗ) + u_b__roll⋅cos(α₁))\n",
       "w1_z"
      ]
     },
     "execution_count": 19,
     "metadata": {},
     "output_type": "execute_result"
    }
   ],
   "source": [
    "N_v_MW3 = MW3.v2pt_theory(MB, N, B).subs(u).simplify()\n",
    "N_v_MW3"
   ]
  },
  {
   "cell_type": "code",
   "execution_count": 20,
   "metadata": {},
   "outputs": [
    {
     "data": {
      "image/png": "[encoded data removed]",
      "text/latex": [
       "$\\displaystyle u_{dx}\\mathbf{\\hat{n}_x} + u_{dz}\\mathbf{\\hat{n}_z} -  0.5 w_{b} u^{pitch}_{b} \\operatorname{sin}\\left(b_{roll}\\right)\\mathbf{\\hat{b}_x} -  0.166666666666667 l_{b} u^{pitch}_{b} \\operatorname{sin}\\left(b_{roll}\\right)\\mathbf{\\hat{b}_y} + (- 0.166666666666667 l_{b} u^{pitch}_{b} \\operatorname{cos}\\left(b_{roll}\\right) + 0.5 w_{b} u^{roll}_{b})\\mathbf{\\hat{b}_z} + 0.5 w_{w} \\left(- u^{pitch}_{b} \\operatorname{sin}\\left(b_{roll}\\right) \\operatorname{cos}\\left(\\alpha_{1}\\right) + u^{roll}_{b} \\operatorname{sin}\\left(\\alpha_{1}\\right)\\right)\\mathbf{\\hat{w1}_x} + 0.5 w_{w} \\left(u^{pitch}_{b} \\operatorname{sin}\\left(\\alpha_{1}\\right) \\operatorname{sin}\\left(b_{roll}\\right) + u^{roll}_{b} \\operatorname{cos}\\left(\\alpha_{1}\\right)\\right)\\mathbf{\\hat{w1}_z}$"
      ],
      "text/plain": [
       "u_d_x n_x + u_d_z n_z + -0.5⋅w_b⋅u_b__pitch⋅sin(bᵣₒₗₗ) b_x + -0.16666666666666\n",
       "7⋅l_b⋅u_b__pitch⋅sin(bᵣₒₗₗ) b_y + (-0.166666666666667⋅l_b⋅u_b__pitch⋅cos(bᵣₒₗₗ\n",
       ") + 0.5⋅w_b⋅u_b__roll) b_z + 0.5⋅w_w⋅(-u_b__pitch⋅sin(bᵣₒₗₗ)⋅cos(α₁) + u_b__ro\n",
       "ll⋅sin(α₁)) w1_x + 0.5⋅w_w⋅(u_b__pitch⋅sin(α₁)⋅sin(bᵣₒₗₗ) + u_b__roll⋅cos(α₁))\n",
       " w1_z"
      ]
     },
     "execution_count": 20,
     "metadata": {},
     "output_type": "execute_result"
    }
   ],
   "source": [
    "N_v_MW4 = MW4.v2pt_theory(MB, N, B).subs(u).simplify()\n",
    "N_v_MW4"
   ]
  },
  {
   "cell_type": "markdown",
   "metadata": {},
   "source": [
    "#### 5.5.2 Velocities of the wheels"
   ]
  },
  {
   "cell_type": "code",
   "execution_count": 21,
   "metadata": {},
   "outputs": [
    {
     "data": {
      "image/png": "[encoded data removed]",
      "text/latex": [
       "$\\displaystyle u_{dx}\\mathbf{\\hat{n}_x} + u_{dz}\\mathbf{\\hat{n}_z} + 0.5 \\left(h_{b} \\operatorname{cos}\\left(b_{roll}\\right) + w_{b} \\operatorname{sin}\\left(b_{roll}\\right)\\right) u^{pitch}_{b}\\mathbf{\\hat{b}_x} + (0.5 h_{b} u^{roll}_{b} + 0.5 l_{b} u^{pitch}_{b} \\operatorname{sin}\\left(b_{roll}\\right))\\mathbf{\\hat{b}_y} + (0.5 l_{b} u^{pitch}_{b} \\operatorname{cos}\\left(b_{roll}\\right) - 0.5 w_{b} u^{roll}_{b})\\mathbf{\\hat{b}_z}$"
      ],
      "text/plain": [
       "u_d_x n_x + u_d_z n_z + 0.5⋅(h_b⋅cos(bᵣₒₗₗ) + w_b⋅sin(bᵣₒₗₗ))⋅u_b__pitch b_x +\n",
       " (0.5⋅h_b⋅u_b__roll + 0.5⋅l_b⋅u_b__pitch⋅sin(bᵣₒₗₗ)) b_y + (0.5⋅l_b⋅u_b__pitch\n",
       "⋅cos(bᵣₒₗₗ) - 0.5⋅w_b⋅u_b__roll) b_z"
      ]
     },
     "execution_count": 21,
     "metadata": {},
     "output_type": "execute_result"
    }
   ],
   "source": [
    "N_v_P1 = P1.v2pt_theory(MB, N, B).subs(u).simplify()\n",
    "N_v_P1"
   ]
  },
  {
   "cell_type": "code",
   "execution_count": 22,
   "metadata": {},
   "outputs": [
    {
     "data": {
      "image/png": "[encoded data removed]",
      "text/latex": [
       "$\\displaystyle u_{dx}\\mathbf{\\hat{n}_x} + u_{dz}\\mathbf{\\hat{n}_z} + 0.5 \\left(h_{b} \\operatorname{cos}\\left(b_{roll}\\right) - w_{b} \\operatorname{sin}\\left(b_{roll}\\right)\\right) u^{pitch}_{b}\\mathbf{\\hat{b}_x} + (0.5 h_{b} u^{roll}_{b} + 0.5 l_{b} u^{pitch}_{b} \\operatorname{sin}\\left(b_{roll}\\right))\\mathbf{\\hat{b}_y} + (0.5 l_{b} u^{pitch}_{b} \\operatorname{cos}\\left(b_{roll}\\right) + 0.5 w_{b} u^{roll}_{b})\\mathbf{\\hat{b}_z}$"
      ],
      "text/plain": [
       "u_d_x n_x + u_d_z n_z + 0.5⋅(h_b⋅cos(bᵣₒₗₗ) - w_b⋅sin(bᵣₒₗₗ))⋅u_b__pitch b_x +\n",
       " (0.5⋅h_b⋅u_b__roll + 0.5⋅l_b⋅u_b__pitch⋅sin(bᵣₒₗₗ)) b_y + (0.5⋅l_b⋅u_b__pitch\n",
       "⋅cos(bᵣₒₗₗ) + 0.5⋅w_b⋅u_b__roll) b_z"
      ]
     },
     "execution_count": 22,
     "metadata": {},
     "output_type": "execute_result"
    }
   ],
   "source": [
    "N_v_P2 = P2.v2pt_theory(MB, N, B).subs(u).simplify()\n",
    "N_v_P2"
   ]
  },
  {
   "cell_type": "code",
   "execution_count": 23,
   "metadata": {},
   "outputs": [
    {
     "data": {
      "image/png": "[encoded data removed]",
      "text/latex": [
       "$\\displaystyle u_{dx}\\mathbf{\\hat{n}_x} + u_{dz}\\mathbf{\\hat{n}_z} + 0.5 \\left(h_{b} \\operatorname{cos}\\left(b_{roll}\\right) + w_{b} \\operatorname{sin}\\left(b_{roll}\\right)\\right) u^{pitch}_{b}\\mathbf{\\hat{b}_x} + (0.5 h_{b} u^{roll}_{b} - 0.5 l_{b} u^{pitch}_{b} \\operatorname{sin}\\left(b_{roll}\\right))\\mathbf{\\hat{b}_y} + (- 0.5 l_{b} u^{pitch}_{b} \\operatorname{cos}\\left(b_{roll}\\right) - 0.5 w_{b} u^{roll}_{b})\\mathbf{\\hat{b}_z}$"
      ],
      "text/plain": [
       "u_d_x n_x + u_d_z n_z + 0.5⋅(h_b⋅cos(bᵣₒₗₗ) + w_b⋅sin(bᵣₒₗₗ))⋅u_b__pitch b_x +\n",
       " (0.5⋅h_b⋅u_b__roll - 0.5⋅l_b⋅u_b__pitch⋅sin(bᵣₒₗₗ)) b_y + (-0.5⋅l_b⋅u_b__pitc\n",
       "h⋅cos(bᵣₒₗₗ) - 0.5⋅w_b⋅u_b__roll) b_z"
      ]
     },
     "execution_count": 23,
     "metadata": {},
     "output_type": "execute_result"
    }
   ],
   "source": [
    "N_v_P3 = P3.v2pt_theory(MB, N, B).subs(u).simplify()\n",
    "N_v_P3"
   ]
  },
  {
   "cell_type": "code",
   "execution_count": 24,
   "metadata": {},
   "outputs": [
    {
     "data": {
      "image/png": "[encoded data removed]",
      "text/latex": [
       "$\\displaystyle u_{dx}\\mathbf{\\hat{n}_x} + u_{dz}\\mathbf{\\hat{n}_z} + 0.5 \\left(h_{b} \\operatorname{cos}\\left(b_{roll}\\right) - w_{b} \\operatorname{sin}\\left(b_{roll}\\right)\\right) u^{pitch}_{b}\\mathbf{\\hat{b}_x} + (0.5 h_{b} u^{roll}_{b} - 0.5 l_{b} u^{pitch}_{b} \\operatorname{sin}\\left(b_{roll}\\right))\\mathbf{\\hat{b}_y} + (- 0.5 l_{b} u^{pitch}_{b} \\operatorname{cos}\\left(b_{roll}\\right) + 0.5 w_{b} u^{roll}_{b})\\mathbf{\\hat{b}_z}$"
      ],
      "text/plain": [
       "u_d_x n_x + u_d_z n_z + 0.5⋅(h_b⋅cos(bᵣₒₗₗ) - w_b⋅sin(bᵣₒₗₗ))⋅u_b__pitch b_x +\n",
       " (0.5⋅h_b⋅u_b__roll - 0.5⋅l_b⋅u_b__pitch⋅sin(bᵣₒₗₗ)) b_y + (-0.5⋅l_b⋅u_b__pitc\n",
       "h⋅cos(bᵣₒₗₗ) + 0.5⋅w_b⋅u_b__roll) b_z"
      ]
     },
     "execution_count": 24,
     "metadata": {},
     "output_type": "execute_result"
    }
   ],
   "source": [
    "N_v_P4 = P4.v2pt_theory(MB, N, B).subs(u).simplify()\n",
    "N_v_P4"
   ]
  },
  {
   "cell_type": "markdown",
   "metadata": {},
   "source": [
    "### 5.6 Angular Velocities"
   ]
  },
  {
   "cell_type": "markdown",
   "metadata": {},
   "source": [
    "The expressions for the angular velocities of the rigid bodies are made independent of the time-derivatives of the independent generalized coordinates by substituting the corresponding generalized speeds in their places."
   ]
  },
  {
   "cell_type": "code",
   "execution_count": 25,
   "metadata": {},
   "outputs": [
    {
     "data": {
      "image/png": "[encoded data removed]",
      "text/latex": [
       "$\\displaystyle u^{roll}_{b}\\mathbf{\\hat{b}_x} -  u^{pitch}_{b} \\operatorname{cos}\\left(b_{roll}\\right)\\mathbf{\\hat{b}_y} + u^{pitch}_{b} \\operatorname{sin}\\left(b_{roll}\\right)\\mathbf{\\hat{b}_z}$"
      ],
      "text/plain": [
       "u_b__roll b_x + -u_b__pitch⋅cos(bᵣₒₗₗ) b_y + u_b__pitch⋅sin(bᵣₒₗₗ) b_z"
      ]
     },
     "execution_count": 25,
     "metadata": {},
     "output_type": "execute_result"
    }
   ],
   "source": [
    "B.set_ang_vel(N, B.ang_vel_in(N).subs(u))\n",
    "B.ang_vel_in(N)"
   ]
  },
  {
   "cell_type": "code",
   "execution_count": 26,
   "metadata": {},
   "outputs": [
    {
     "data": {
      "image/png": "[encoded data removed]",
      "text/latex": [
       "$\\displaystyle u^{roll}_{b}\\mathbf{\\hat{b}_x} -  u^{pitch}_{b} \\operatorname{cos}\\left(b_{roll}\\right)\\mathbf{\\hat{b}_y} + u^{pitch}_{b} \\operatorname{sin}\\left(b_{roll}\\right)\\mathbf{\\hat{b}_z}$"
      ],
      "text/plain": [
       "u_b__roll b_x + -u_b__pitch⋅cos(bᵣₒₗₗ) b_y + u_b__pitch⋅sin(bᵣₒₗₗ) b_z"
      ]
     },
     "execution_count": 26,
     "metadata": {},
     "output_type": "execute_result"
    }
   ],
   "source": [
    "W1.set_ang_vel(N, W1.ang_vel_in(N).subs(u))\n",
    "W1.ang_vel_in(N)"
   ]
  },
  {
   "cell_type": "code",
   "execution_count": 27,
   "metadata": {},
   "outputs": [
    {
     "data": {
      "image/png": "[encoded data removed]",
      "text/latex": [
       "$\\displaystyle u^{roll}_{b}\\mathbf{\\hat{b}_x} -  u^{pitch}_{b} \\operatorname{cos}\\left(b_{roll}\\right)\\mathbf{\\hat{b}_y} + u^{pitch}_{b} \\operatorname{sin}\\left(b_{roll}\\right)\\mathbf{\\hat{b}_z}$"
      ],
      "text/plain": [
       "u_b__roll b_x + -u_b__pitch⋅cos(bᵣₒₗₗ) b_y + u_b__pitch⋅sin(bᵣₒₗₗ) b_z"
      ]
     },
     "execution_count": 27,
     "metadata": {},
     "output_type": "execute_result"
    }
   ],
   "source": [
    "W2.set_ang_vel(N, W2.ang_vel_in(N).subs(u))\n",
    "W2.ang_vel_in(N)"
   ]
  },
  {
   "cell_type": "code",
   "execution_count": 28,
   "metadata": {},
   "outputs": [
    {
     "data": {
      "image/png": "[encoded data removed]",
      "text/latex": [
       "$\\displaystyle u^{roll}_{b}\\mathbf{\\hat{b}_x} -  u^{pitch}_{b} \\operatorname{cos}\\left(b_{roll}\\right)\\mathbf{\\hat{b}_y} + u^{pitch}_{b} \\operatorname{sin}\\left(b_{roll}\\right)\\mathbf{\\hat{b}_z}$"
      ],
      "text/plain": [
       "u_b__roll b_x + -u_b__pitch⋅cos(bᵣₒₗₗ) b_y + u_b__pitch⋅sin(bᵣₒₗₗ) b_z"
      ]
     },
     "execution_count": 28,
     "metadata": {},
     "output_type": "execute_result"
    }
   ],
   "source": [
    "W3.set_ang_vel(N, W3.ang_vel_in(N).subs(u))\n",
    "W3.ang_vel_in(N)"
   ]
  },
  {
   "cell_type": "code",
   "execution_count": 29,
   "metadata": {},
   "outputs": [
    {
     "data": {
      "image/png": "[encoded data removed]",
      "text/latex": [
       "$\\displaystyle u^{roll}_{b}\\mathbf{\\hat{b}_x} -  u^{pitch}_{b} \\operatorname{cos}\\left(b_{roll}\\right)\\mathbf{\\hat{b}_y} + u^{pitch}_{b} \\operatorname{sin}\\left(b_{roll}\\right)\\mathbf{\\hat{b}_z}$"
      ],
      "text/plain": [
       "u_b__roll b_x + -u_b__pitch⋅cos(bᵣₒₗₗ) b_y + u_b__pitch⋅sin(bᵣₒₗₗ) b_z"
      ]
     },
     "execution_count": 29,
     "metadata": {},
     "output_type": "execute_result"
    }
   ],
   "source": [
    "W4.set_ang_vel(N, W4.ang_vel_in(N).subs(u))\n",
    "W4.ang_vel_in(N)"
   ]
  },
  {
   "cell_type": "markdown",
   "metadata": {},
   "source": [
    "### 5.7 Inertia Dyadics"
   ]
  },
  {
   "cell_type": "markdown",
   "metadata": {},
   "source": [
    "The inertia dyadics of the rigid bodies are computed."
   ]
  },
  {
   "cell_type": "code",
   "execution_count": 30,
   "metadata": {},
   "outputs": [],
   "source": [
    "mB, mW = sm.symbols('m_B, m_W')\n",
    "IBx, IBy, IBz, IWx, IWy, IWz = sm.symbols('I_B_x, I_B_y, I_B_z, I_W_x, I_W_y, I_W_z')"
   ]
  },
  {
   "cell_type": "code",
   "execution_count": 31,
   "metadata": {},
   "outputs": [
    {
     "data": {
      "image/png": "[encoded data removed]",
      "text/latex": [
       "$\\displaystyle I_{B x}\\mathbf{\\hat{b}_x}\\otimes \\mathbf{\\hat{b}_x} + I_{B y}\\mathbf{\\hat{b}_y}\\otimes \\mathbf{\\hat{b}_y} + I_{B z}\\mathbf{\\hat{b}_z}\\otimes \\mathbf{\\hat{b}_z}$"
      ],
      "text/plain": [
       "I_B_x b_x⊗b_x + I_B_y b_y⊗b_y + I_B_z b_z⊗b_z"
      ]
     },
     "execution_count": 31,
     "metadata": {},
     "output_type": "execute_result"
    }
   ],
   "source": [
    "IB = me.inertia(B, IBx, IBy, IBz)\n",
    "IB"
   ]
  },
  {
   "cell_type": "code",
   "execution_count": 32,
   "metadata": {},
   "outputs": [
    {
     "data": {
      "image/png": "[encoded data removed]",
      "text/latex": [
       "$\\displaystyle I_{W x}\\mathbf{\\hat{w1}_x}\\otimes \\mathbf{\\hat{w1}_x} + I_{W y}\\mathbf{\\hat{w1}_y}\\otimes \\mathbf{\\hat{w1}_y} + I_{W z}\\mathbf{\\hat{w1}_z}\\otimes \\mathbf{\\hat{w1}_z}$"
      ],
      "text/plain": [
       "I_W_x w1_x⊗w1_x + I_W_y w1_y⊗w1_y + I_W_z w1_z⊗w1_z"
      ]
     },
     "execution_count": 32,
     "metadata": {},
     "output_type": "execute_result"
    }
   ],
   "source": [
    "IW1 = me.inertia(W1, IWx, IWy, IWz)\n",
    "IW1"
   ]
  },
  {
   "cell_type": "code",
   "execution_count": 33,
   "metadata": {},
   "outputs": [
    {
     "data": {
      "image/png": "[encoded data removed]",
      "text/latex": [
       "$\\displaystyle I_{W x}\\mathbf{\\hat{w2}_x}\\otimes \\mathbf{\\hat{w2}_x} + I_{W y}\\mathbf{\\hat{w2}_y}\\otimes \\mathbf{\\hat{w2}_y} + I_{W z}\\mathbf{\\hat{w2}_z}\\otimes \\mathbf{\\hat{w2}_z}$"
      ],
      "text/plain": [
       "I_W_x w2_x⊗w2_x + I_W_y w2_y⊗w2_y + I_W_z w2_z⊗w2_z"
      ]
     },
     "execution_count": 33,
     "metadata": {},
     "output_type": "execute_result"
    }
   ],
   "source": [
    "IW2 = me.inertia(W2, IWx, IWy, IWz)\n",
    "IW2"
   ]
  },
  {
   "cell_type": "code",
   "execution_count": 34,
   "metadata": {},
   "outputs": [
    {
     "data": {
      "image/png": "[encoded data removed]",
      "text/latex": [
       "$\\displaystyle I_{W x}\\mathbf{\\hat{w3}_x}\\otimes \\mathbf{\\hat{w3}_x} + I_{W y}\\mathbf{\\hat{w3}_y}\\otimes \\mathbf{\\hat{w3}_y} + I_{W z}\\mathbf{\\hat{w3}_z}\\otimes \\mathbf{\\hat{w3}_z}$"
      ],
      "text/plain": [
       "I_W_x w3_x⊗w3_x + I_W_y w3_y⊗w3_y + I_W_z w3_z⊗w3_z"
      ]
     },
     "execution_count": 34,
     "metadata": {},
     "output_type": "execute_result"
    }
   ],
   "source": [
    "IW3 = me.inertia(W3, IWx, IWy, IWz)\n",
    "IW3"
   ]
  },
  {
   "cell_type": "code",
   "execution_count": 35,
   "metadata": {},
   "outputs": [
    {
     "data": {
      "image/png": "[encoded data removed]",
      "text/latex": [
       "$\\displaystyle I_{W x}\\mathbf{\\hat{w4}_x}\\otimes \\mathbf{\\hat{w4}_x} + I_{W y}\\mathbf{\\hat{w4}_y}\\otimes \\mathbf{\\hat{w4}_y} + I_{W z}\\mathbf{\\hat{w4}_z}\\otimes \\mathbf{\\hat{w4}_z}$"
      ],
      "text/plain": [
       "I_W_x w4_x⊗w4_x + I_W_y w4_y⊗w4_y + I_W_z w4_z⊗w4_z"
      ]
     },
     "execution_count": 35,
     "metadata": {},
     "output_type": "execute_result"
    }
   ],
   "source": [
    "IW4 = me.inertia(W4, IWx, IWy, IWz)\n",
    "IW4"
   ]
  },
  {
   "cell_type": "markdown",
   "metadata": {},
   "source": [
    "### 5.8 Loads"
   ]
  },
  {
   "cell_type": "markdown",
   "metadata": {},
   "source": [
    "The loads (forces) acting on the vehicle are defined: gravitational, lift, propulsive, collision (contact/penetration) and frictional forces are considered."
   ]
  },
  {
   "cell_type": "markdown",
   "metadata": {},
   "source": [
    "#### 5.8.1 Gravitational Forces"
   ]
  },
  {
   "cell_type": "code",
   "execution_count": 36,
   "metadata": {},
   "outputs": [],
   "source": [
    "g = sm.symbols('g')\n",
    "\n",
    "G_B = -(mB * g) * N.z\n",
    "G_W1 = -(mW * g) * N.z\n",
    "G_W2 = -(mW * g) * N.z\n",
    "G_W3 = -(mW * g) * N.z\n",
    "G_W4 = -(mW * g) * N.z"
   ]
  },
  {
   "cell_type": "markdown",
   "metadata": {},
   "source": [
    "#### 5.8.2 Lift Forces"
   ]
  },
  {
   "cell_type": "code",
   "execution_count": 37,
   "metadata": {},
   "outputs": [
    {
     "data": {
      "image/png": "[encoded data removed]",
      "text/latex": [
       "$\\displaystyle C_{L} \\left(H - d_{z}\\right) u_{dx} \\operatorname{sin}\\left(\\alpha_{4}\\right)\\mathbf{\\hat{n}_z}$"
      ],
      "text/plain": [
       "C_L⋅(H - d_z)⋅u_d_x⋅sin(α₄) n_z"
      ]
     },
     "execution_count": 37,
     "metadata": {},
     "output_type": "execute_result"
    }
   ],
   "source": [
    "CL, H = sm.symbols('C_L, H')\n",
    "\n",
    "FL1 = CL * sm.sin(alpha1) * N_v_MB.dot(N.x).subs(u) * (H - dz) * N.z\n",
    "\n",
    "FL2 = CL * sm.sin(alpha2) * N_v_MB.dot(N.x).subs(u) * (H - dz) * N.z\n",
    "\n",
    "FL3 = CL * sm.sin(alpha3) * N_v_MB.dot(N.x).subs(u) * (H - dz) * N.z\n",
    "\n",
    "FL4 = CL * sm.sin(alpha4) * N_v_MB.dot(N.x).subs(u) * (H - dz) * N.z\n",
    "\n",
    "FL4"
   ]
  },
  {
   "cell_type": "markdown",
   "metadata": {},
   "source": [
    "#### 5.8.3 Propulsive Force"
   ]
  },
  {
   "cell_type": "code",
   "execution_count": 38,
   "metadata": {},
   "outputs": [],
   "source": [
    "FPmag = sm.symbols('FPmag')\n",
    "FP = FPmag * N.x"
   ]
  },
  {
   "cell_type": "markdown",
   "metadata": {},
   "source": [
    "#### 5.8.4 Contact Forces: Subsurface Travel Avoidance"
   ]
  },
  {
   "cell_type": "markdown",
   "metadata": {},
   "source": [
    "Contact collision and frictional forces act on the wheels of the vehicle."
   ]
  },
  {
   "cell_type": "code",
   "execution_count": 39,
   "metadata": {},
   "outputs": [],
   "source": [
    "kc, cc, mu, vs = sm.symbols('k_c, c_c, mu, v_s')\n",
    "\n",
    "P1_B = P1.pos_from(O).dot(N.z).subs(u)\n",
    "penetration1 = (sm.Abs(P1_B) - P1_B)/2\n",
    "vertical_force1 = (kc*penetration1**3 - P1_B)*(1-cc*P1.vel(N).dot(N.z).subs(u))\n",
    "friction_force_x1 = -mu*vertical_force1*((2/(1+sm.exp(-P1.vel(N).dot(N.x).subs(u)/vs))) - 1)\n",
    "friction_force_y1 = -mu*vertical_force1*((2/(1+sm.exp(-P1.vel(N).dot(N.y).subs(u)/vs))) - 1)\n",
    "contact_force1 = friction_force_x1*N.x + friction_force_y1*N.y + vertical_force1*N.z  \n",
    "\n",
    "P2_B = P2.pos_from(O).dot(N.z).subs(u)\n",
    "penetration2 = (sm.Abs(P2_B) - P2_B)/2\n",
    "vertical_force2 = (kc*penetration2**3 - P2_B)*(1-cc*P2.vel(N).dot(N.z).subs(u))\n",
    "friction_force_x2 = -mu*vertical_force2*((2/(1+sm.exp(-P2.vel(N).dot(N.x).subs(u)/vs))) - 1)\n",
    "friction_force_y2 = -mu*vertical_force2*((2/(1+sm.exp(-P2.vel(N).dot(N.y).subs(u)/vs))) - 1)\n",
    "contact_force2 = friction_force_x2*N.x + friction_force_y2*N.y + vertical_force2*N.z \n",
    "\n",
    "P3_B = P3.pos_from(O).dot(N.z).subs(u)\n",
    "penetration3 = (sm.Abs(P3_B) - P3_B)/2\n",
    "vertical_force3 = (kc*penetration3**3 - P3_B)*(1-cc*P3.vel(N).dot(N.z).subs(u))\n",
    "friction_force_x3 = -mu*vertical_force3*((2/(1+sm.exp(-P3.vel(N).dot(N.x).subs(u)/vs))) - 1)\n",
    "friction_force_y3 = -mu*vertical_force3*((2/(1+sm.exp(-P3.vel(N).dot(N.y).subs(u)/vs))) - 1)\n",
    "contact_force3 = friction_force_x3*N.x + friction_force_y3*N.y + vertical_force3*N.z \n",
    "\n",
    "P4_B = P4.pos_from(O).dot(N.z).subs(u)\n",
    "penetration4 = (sm.Abs(P4_B) - P4_B)/2\n",
    "vertical_force4 = (kc*penetration4**3 - P4_B)*(1-cc*P4.vel(N).dot(N.z).subs(u))\n",
    "friction_force_x4 = -mu*vertical_force4*((2/(1+sm.exp(-P4.vel(N).dot(N.x).subs(u)/vs))) - 1)\n",
    "friction_force_y4 = -mu*vertical_force4*((2/(1+sm.exp(-P4.vel(N).dot(N.y).subs(u)/vs))) - 1)\n",
    "contact_force4 = friction_force_x4*N.x + friction_force_y4*N.y + vertical_force4*N.z "
   ]
  },
  {
   "cell_type": "markdown",
   "metadata": {},
   "source": [
    "### 5.9 Kane's Method"
   ]
  },
  {
   "cell_type": "markdown",
   "metadata": {},
   "source": [
    "The model is set up to leverage the accessibility of Kane's method of solving multibody dynamics problems."
   ]
  },
  {
   "cell_type": "code",
   "execution_count": 40,
   "metadata": {},
   "outputs": [],
   "source": [
    "kdes = [z1.rhs - z1.lhs, z2.rhs - z2.lhs, z3.rhs - z3.lhs, z4.rhs - z4.lhs]"
   ]
  },
  {
   "cell_type": "code",
   "execution_count": 41,
   "metadata": {},
   "outputs": [],
   "source": [
    "bogie = me.RigidBody('Bogie', MB, B, mB, (IB, MB))\n",
    "wing1 = me.RigidBody('Wing_1', MW1, W1, mW, (IW1, MW1))\n",
    "wing2 = me.RigidBody('Wing_2', MW2, W2, mW, (IW2, MW2))\n",
    "wing3 = me.RigidBody('Wing_3', MW3, W3, mW, (IW3, MW3))\n",
    "wing4 = me.RigidBody('Wing_4', MW4, W4, mW, (IW4, MW4))\n",
    "\n",
    "bodies = [bogie, wing1, wing2, wing3, wing4]"
   ]
  },
  {
   "cell_type": "code",
   "execution_count": 42,
   "metadata": {},
   "outputs": [],
   "source": [
    "loads = [(MB, G_B + FP),\n",
    "         (MW1, G_W1 + FL1),\n",
    "         (MW2, G_W2 + FL2),\n",
    "         (MW3, G_W3 + FL3),\n",
    "         (MW4, G_W4 + FL4),\n",
    "         (P1, contact_force1),\n",
    "         (P2, contact_force2),\n",
    "         (P3, contact_force3),\n",
    "         (P4, contact_force4),\n",
    "        ]"
   ]
  },
  {
   "cell_type": "code",
   "execution_count": 43,
   "metadata": {},
   "outputs": [],
   "source": [
    "kane = me.KanesMethod(N, (dx, dz, bpitch, broll), (u_dx, u_dz, u_bpitch, u_broll), kd_eqs=kdes)"
   ]
  },
  {
   "cell_type": "markdown",
   "metadata": {},
   "source": [
    "The holonomic generalized active forces, $f_r$, and generalized inertia forces, $f_r*$, are computed using Kane's method."
   ]
  },
  {
   "cell_type": "code",
   "execution_count": 44,
   "metadata": {},
   "outputs": [],
   "source": [
    "fr, frstar = kane.kanes_equations(bodies, loads=loads)"
   ]
  },
  {
   "cell_type": "code",
   "execution_count": 45,
   "metadata": {},
   "outputs": [],
   "source": [
    "# fr"
   ]
  },
  {
   "cell_type": "code",
   "execution_count": 46,
   "metadata": {},
   "outputs": [],
   "source": [
    "# frstar"
   ]
  },
  {
   "cell_type": "markdown",
   "metadata": {},
   "source": [
    "## 6. Simulation"
   ]
  },
  {
   "cell_type": "markdown",
   "metadata": {},
   "source": [
    "The vehicle model is validated by means of a simulation, by defining the constants and specifying the initial conditions. One simulation case (maximum levitation height, $H$ = 1 meter) is demonstrated for a 50 second run.\n",
    "\n",
    "The magnetic _wings_ are pitched at 15 degrees each. The coefficient of friction between the wheels and the track surface is chosen to be 0.2. An axial propulsive force of 10 N is applied. The vehicle starts at an initial axial speed of 10 m/s."
   ]
  },
  {
   "cell_type": "code",
   "execution_count": 47,
   "metadata": {},
   "outputs": [],
   "source": [
    "sys = System(kane)"
   ]
  },
  {
   "cell_type": "code",
   "execution_count": 48,
   "metadata": {},
   "outputs": [
    {
     "data": {
      "image/png": "[encoded data removed]",
      "text/latex": [
       "$\\displaystyle \\left\\{C_{L}, \\left|{FP}\\right|, H, I_{B x}, I_{B y}, I_{B z}, I_{W x}, I_{W y}, I_{W z}, \\alpha_{1}, \\alpha_{2}, \\alpha_{3}, \\alpha_{4}, c_{c}, g, h_{b}, k_{c}, l_{b}, m_{B}, m_{W}, \\mu, v_{s}, w_{b}, w_{w}\\right\\}$"
      ],
      "text/plain": [
       "{C_L, |FP|, H, I_B_x, I_B_y, I_B_z, I_W_x, I_W_y, I_W_z, α₁, α₂, α₃, α₄, c_c, \n",
       "g, h_b, k_c, l_b, m_B, m_W, μ, vₛ, w_b, w_w}"
      ]
     },
     "execution_count": 48,
     "metadata": {},
     "output_type": "execute_result"
    }
   ],
   "source": [
    "sys.constants_symbols"
   ]
  },
  {
   "cell_type": "code",
   "execution_count": 49,
   "metadata": {},
   "outputs": [],
   "source": [
    "sys.constants = {CL: 50,\n",
    "                 FPmag: 10,\n",
    "                 H: 1,\n",
    "                 IBx: 1.02,\n",
    "                 IBy: 19.07,\n",
    "                 IBz: 20.04,\n",
    "                 IWx: 0.00204587701,\n",
    "                 IWy: 0.0982636759,\n",
    "                 IWz: 0.0985611947,\n",
    "                 alpha1: 0.261799,\n",
    "                 alpha2: 0.261799,\n",
    "                 alpha3: 0.261799,\n",
    "                 alpha4: 0.261799,\n",
    "                 cc: 0.1,\n",
    "                 g: 9.81,\n",
    "                 hb: 0.025,\n",
    "                 kc: 5.0e7,\n",
    "                 lb: 1.2,\n",
    "                 mB: 34.04,\n",
    "                 mW: 3.06451,\n",
    "                 mu: 0.2, #1.0\n",
    "                 vs: 0.01, #0.85\n",
    "                 wb: 0.45,\n",
    "                 ww: 0.025\n",
    "                 }"
   ]
  },
  {
   "cell_type": "code",
   "execution_count": 50,
   "metadata": {},
   "outputs": [],
   "source": [
    "sys.times = np.linspace(0.0, 50.0, num=1000)\n",
    "t = me.dynamicsymbols._t"
   ]
  },
  {
   "cell_type": "code",
   "execution_count": 51,
   "metadata": {},
   "outputs": [],
   "source": [
    "sys.initial_conditions = {dx: 0.0,\n",
    "                          dz: 0.1,\n",
    "                          bpitch: 0.0,\n",
    "                          broll: 0.0,\n",
    "                          u_dx: 10.0,\n",
    "                          u_dz: 0.0,\n",
    "                          u_bpitch: 0.0,\n",
    "                          u_broll: 0.0\n",
    "                         }"
   ]
  },
  {
   "cell_type": "code",
   "execution_count": 52,
   "metadata": {},
   "outputs": [],
   "source": [
    "x = sys.integrate()"
   ]
  },
  {
   "cell_type": "code",
   "execution_count": 53,
   "metadata": {},
   "outputs": [
    {
     "data": {
      "image/png": "[encoded data removed]",
      "text/plain": [
       "<Figure size 432x288 with 1 Axes>"
      ]
     },
     "metadata": {
      "needs_background": "light"
     },
     "output_type": "display_data"
    }
   ],
   "source": [
    "fig, ax = plt.subplots()\n",
    "ax.plot(sys.times, x[:, 5])\n",
    "ax.set_xlabel('{} [s]'.format(sm.latex(t, mode='inline'))); ax.set_ylabel('{} [m/s]'.format(sm.latex(u_dz, mode='inline')));\n",
    "plt.show()"
   ]
  },
  {
   "cell_type": "markdown",
   "metadata": {},
   "source": [
    "$\\rightarrow$ Vertical speed of the mass-center of the vehicle"
   ]
  },
  {
   "cell_type": "code",
   "execution_count": 54,
   "metadata": {},
   "outputs": [
    {
     "data": {
      "image/png": "[encoded data removed]",
      "text/plain": [
       "<Figure size 432x288 with 1 Axes>"
      ]
     },
     "metadata": {
      "needs_background": "light"
     },
     "output_type": "display_data"
    }
   ],
   "source": [
    "fig, ax = plt.subplots()\n",
    "ax.plot(sys.times, x[:, 6])\n",
    "ax.set_xlabel('{} [s]'.format(sm.latex(t, mode='inline'))); ax.set_ylabel('{} [rad/s]'.format(sm.latex(u_bpitch, mode='inline')));\n",
    "# plt.show()"
   ]
  },
  {
   "cell_type": "markdown",
   "metadata": {},
   "source": [
    "$\\rightarrow$ Pitch rate of the _Bogie_"
   ]
  },
  {
   "cell_type": "markdown",
   "metadata": {},
   "source": [
    "## 7. 3D Visualization"
   ]
  },
  {
   "cell_type": "markdown",
   "metadata": {},
   "source": [
    "A 3D animation of the simulation is developed using pythreejs and PyDy (_Courtesy of Dr. Jason Moore_), to gain more insight into the behavior of the vehicle under different levitation regimes."
   ]
  },
  {
   "cell_type": "code",
   "execution_count": 55,
   "metadata": {},
   "outputs": [],
   "source": [
    "from pydy.viz.shapes import Cube, Cylinder, Sphere, Plane\n",
    "from pydy.viz.visualization_frame import VisualizationFrame\n",
    "from pydy.viz import Scene\n",
    "from ipywidgets import Image, Video\n",
    "import pythreejs as pjs"
   ]
  },
  {
   "cell_type": "code",
   "execution_count": 56,
   "metadata": {},
   "outputs": [],
   "source": [
    "bogie_shape = Cube(1.2, color='red')\n",
    "wing1_shape = Cube(0.4, color='green')\n",
    "wing2_shape = Cube(0.4, color='green')\n",
    "wing3_shape = Cube(0.4, color='green')\n",
    "wing4_shape = Cube(0.4, color='green')"
   ]
  },
  {
   "cell_type": "code",
   "execution_count": 57,
   "metadata": {},
   "outputs": [],
   "source": [
    "v1 = VisualizationFrame('Bogie',\n",
    "                        N.orientnew('Bogie', 'Body', [-bpitch, broll, 0], 'YXZ'),\n",
    "                        MB,\n",
    "                        bogie_shape)\n",
    "\n",
    "v2 = VisualizationFrame('Wing1', \n",
    "                        B.orientnew('Wing1', 'Axis', (alpha1, -B.y)),\n",
    "                        MW1.locatenew('M_W_1', (1/6) * lb * B.x),\n",
    "                        wing1_shape)\n",
    "\n",
    "v3 = VisualizationFrame('Wing2', \n",
    "                        B.orientnew('Wing2', 'Axis', (alpha1, -B.y)),\n",
    "                        MW2.locatenew('M_W_2', (1/6) * lb * B.x),\n",
    "                        wing2_shape)\n",
    "\n",
    "v4 = VisualizationFrame('Wing3', \n",
    "                        B.orientnew('Wing3', 'Axis', (alpha1, -B.y)),\n",
    "                        MW3.locatenew('M_W_3', -(1/6) * lb * B.x),\n",
    "                        wing3_shape)\n",
    "\n",
    "v5 = VisualizationFrame('Wing4', \n",
    "                        B.orientnew('Wing4', 'Axis', (alpha1, -B.y)),\n",
    "                        MW4.locatenew('M_W_4', -(1/6) * lb * B.x),\n",
    "                        wing4_shape)"
   ]
  },
  {
   "cell_type": "code",
   "execution_count": 58,
   "metadata": {},
   "outputs": [],
   "source": [
    "scene = Scene(N, O, v1, v2, v3, v4, v5, system=sys)\n",
    "scene.create_static_html(overwrite=True, silent=True)"
   ]
  },
  {
   "cell_type": "code",
   "execution_count": 59,
   "metadata": {},
   "outputs": [],
   "source": [
    "bogie_mesh = pjs.Mesh(\n",
    "    pjs.BoxBufferGeometry(1.2, 0.45, 0.025),\n",
    "    pjs.MeshStandardMaterial(color='red'),\n",
    "    name=\"Bogie\"\n",
    ")\n",
    "\n",
    "wing1_mesh = pjs.Mesh(\n",
    "    pjs.BoxBufferGeometry(height=0.025, width=0.4, depth=0.025),\n",
    "    pjs.MeshStandardMaterial(color='green'),\n",
    "    name='Wing1'\n",
    ")\n",
    "\n",
    "wing2_mesh = pjs.Mesh(\n",
    "    pjs.BoxBufferGeometry(height=0.025, width=0.4, depth=0.025),\n",
    "    pjs.MeshStandardMaterial(color='green'),\n",
    "    name='Wing2'\n",
    ")\n",
    "\n",
    "wing3_mesh = pjs.Mesh(\n",
    "    pjs.BoxBufferGeometry(height=0.025, width=0.4, depth=0.025),\n",
    "    pjs.MeshStandardMaterial(color='green'),\n",
    "    name='Wing3'\n",
    ")\n",
    "\n",
    "wing4_mesh = pjs.Mesh(\n",
    "    pjs.BoxBufferGeometry(height=0.025, width=0.4, depth=0.025),\n",
    "    pjs.MeshStandardMaterial(color='green'),\n",
    "    name='Wing4'\n",
    ")"
   ]
  },
  {
   "cell_type": "code",
   "execution_count": 60,
   "metadata": {},
   "outputs": [],
   "source": [
    "bogie_matrices = v1.evaluate_transformation_matrix(x, list(sys.constants.values()))\n",
    "wing1_matrices = v2.evaluate_transformation_matrix(x, list(sys.constants.values()))\n",
    "wing2_matrices = v3.evaluate_transformation_matrix(x, list(sys.constants.values()))\n",
    "wing3_matrices = v4.evaluate_transformation_matrix(x, list(sys.constants.values()))\n",
    "wing4_matrices = v5.evaluate_transformation_matrix(x, list(sys.constants.values()))\n",
    "\n",
    "bogie_track = pjs.VectorKeyframeTrack(\n",
    "    name='scene/Bogie.matrix',\n",
    "    times=list(sys.times),\n",
    "    values=bogie_matrices)\n",
    "\n",
    "wing1_track = pjs.VectorKeyframeTrack(\n",
    "    name='scene/Wing1.matrix',\n",
    "    times=list(sys.times),\n",
    "    values=wing1_matrices)\n",
    "\n",
    "wing2_track = pjs.VectorKeyframeTrack(\n",
    "    name='scene/Wing2.matrix',\n",
    "    times=list(sys.times),\n",
    "    values=wing2_matrices)\n",
    "\n",
    "wing3_track = pjs.VectorKeyframeTrack(\n",
    "    name='scene/Wing3.matrix',\n",
    "    times=list(sys.times),\n",
    "    values=wing3_matrices)\n",
    "\n",
    "wing4_track = pjs.VectorKeyframeTrack(\n",
    "    name='scene/Wing4.matrix',\n",
    "    times=list(sys.times),\n",
    "    values=wing4_matrices)"
   ]
  },
  {
   "cell_type": "code",
   "execution_count": 61,
   "metadata": {},
   "outputs": [],
   "source": [
    "bogie_mesh.matrixAutoUpdate = False\n",
    "wing1_mesh.matrixAutoUpdate = False\n",
    "wing2_mesh.matrixAutoUpdate = False\n",
    "wing3_mesh.matrixAutoUpdate = False\n",
    "wing4_mesh.matrixAutoUpdate = False"
   ]
  },
  {
   "cell_type": "code",
   "execution_count": 62,
   "metadata": {},
   "outputs": [],
   "source": [
    "bogie_mesh.matrix = bogie_matrices[0]\n",
    "wing1_mesh.matrix = wing1_matrices[0]\n",
    "wing2_mesh.matrix = wing2_matrices[0]\n",
    "wing3_mesh.matrix = wing3_matrices[0]\n",
    "wing4_mesh.matrix = wing4_matrices[0]"
   ]
  },
  {
   "cell_type": "code",
   "execution_count": 63,
   "metadata": {},
   "outputs": [],
   "source": [
    "x_arrow = pjs.ArrowHelper(dir=[1, 0, 0], length=2.0, color='blue')\n",
    "y_arrow = pjs.ArrowHelper(dir=[0, 1, 0], length=2.0, color='red')\n",
    "z_arrow = pjs.ArrowHelper(dir=[0, 0, 1], length=2.0,color='green')"
   ]
  },
  {
   "cell_type": "code",
   "execution_count": 64,
   "metadata": {},
   "outputs": [],
   "source": [
    "view_width = 960\n",
    "view_height = 720\n",
    "\n",
    "camera = pjs.PerspectiveCamera(position=[1, 1, 1],\n",
    "                               aspect=view_width/view_height)\n",
    "key_light = pjs.DirectionalLight(position=[0, 10, 10])\n",
    "ambient_light = pjs.AmbientLight()\n",
    "\n",
    "scene_pjs = pjs.Scene(children=[bogie_mesh, wing1_mesh, wing2_mesh, wing3_mesh, wing4_mesh,\n",
    "                                x_arrow, y_arrow, z_arrow, \n",
    "                                camera, key_light, ambient_light])\n",
    "\n",
    "controller = pjs.OrbitControls(controlling=camera)\n",
    "renderer = pjs.Renderer(camera=camera, scene=scene_pjs, controls=[controller], width=view_width, height=view_height)"
   ]
  },
  {
   "cell_type": "code",
   "execution_count": 65,
   "metadata": {},
   "outputs": [
    {
     "data": {
      "application/vnd.jupyter.widget-view+json": {
       "model_id": "040bd2978e314a95bf6229f8cd1a1f8a",
       "version_major": 2,
       "version_minor": 0
      },
      "text/plain": [
       "Renderer(camera=PerspectiveCamera(aspect=1.3333333333333333, position=(1.0, 1.0, 1.0), quaternion=(0.0, 0.0, 0…"
      ]
     },
     "metadata": {},
     "output_type": "display_data"
    }
   ],
   "source": [
    "renderer"
   ]
  },
  {
   "cell_type": "code",
   "execution_count": 66,
   "metadata": {},
   "outputs": [
    {
     "data": {
      "application/vnd.jupyter.widget-view+json": {
       "model_id": "9418b40532954cbbb79882af6d9734f9",
       "version_major": 2,
       "version_minor": 0
      },
      "text/plain": [
       "AnimationAction(clip=AnimationClip(duration=50.0, tracks=(VectorKeyframeTrack(name='scene/Bogie.matrix', times…"
      ]
     },
     "metadata": {},
     "output_type": "display_data"
    }
   ],
   "source": [
    "clip = pjs.AnimationClip(tracks=[bogie_track, wing1_track, wing2_track, wing3_track, wing4_track], duration=sys.times[-1])\n",
    "action = pjs.AnimationAction(pjs.AnimationMixer(scene_pjs), clip, scene_pjs)\n",
    "action"
   ]
  },
  {
   "cell_type": "markdown",
   "metadata": {},
   "source": [
    "## 8. Results and Conclusion"
   ]
  },
  {
   "cell_type": "markdown",
   "metadata": {},
   "source": [
    "### 8.1 Case 1: \n",
    "\n",
    "H = 10 [m]"
   ]
  },
  {
   "cell_type": "markdown",
   "metadata": {},
   "source": [
    "<center><video controls src=\"Media/MagLev_unstable.mov\" width=\"750\" /></center>\n",
    "\n",
    "##### <center>The vehicle displays extreme instability, with the maximum levitation height set to ten meters.</center>"
   ]
  },
  {
   "cell_type": "markdown",
   "metadata": {},
   "source": [
    "<img src=\"Media/Plot_ten.png\" width=\"1100\" />\n",
    "\n",
    "##### <center>Figure 7: Vertical speed and vehicle pitch rate for Case 1.</center>"
   ]
  },
  {
   "cell_type": "markdown",
   "metadata": {},
   "source": [
    "### 8.2 Case 2: \n",
    "\n",
    "H = 0.5 [m]"
   ]
  },
  {
   "cell_type": "markdown",
   "metadata": {},
   "source": [
    "<center><video controls src=\"Media/MagLev_Friction.mov\" width=\"750\" /></center>\n",
    "\n",
    "##### <center>The vehicle comes to a halt due to friction, with the maximum levitation height set to half a meter.</center>"
   ]
  },
  {
   "cell_type": "markdown",
   "metadata": {},
   "source": [
    "<img src=\"Media/Plot_half.png\" width=\"1100\" />\n",
    "\n",
    "##### <center>Figure 7: Vertical speed and vehicle pitch rate for Case 2.</center>"
   ]
  },
  {
   "cell_type": "markdown",
   "metadata": {},
   "source": [
    "### 8.3 Case 3: \n",
    "\n",
    "H = 1 [m]"
   ]
  },
  {
   "cell_type": "markdown",
   "metadata": {},
   "source": [
    "<center><video controls src=\"Media/MagLev_Flyby.mov\" width=\"750\" /></center>\n",
    "\n",
    "##### <center>The vehicle is fairly stable, with the maximum levitation height set to one meter.</center>"
   ]
  },
  {
   "cell_type": "markdown",
   "metadata": {},
   "source": [
    "<img src=\"Media/Plot_one.png\" width=\"1100\" />\n",
    "\n",
    "##### <center>Figure 8: Vertical speed and vehicle pitch rate for Case 3.</center>"
   ]
  },
  {
   "cell_type": "markdown",
   "metadata": {},
   "source": [
    "The vehicle is fairly stable in _Case 3_, with the maximum levitation height set to 1 meter. This would be the most favorable maximum levitation height among the simulations cases that were run. The magnitudes of the vertical speed and the pitch rate are relatively extremely low values in this case, and further stability of the vehicle system can be ensured by designing appropriate control systems."
   ]
  },
  {
   "cell_type": "markdown",
   "metadata": {},
   "source": [
    "## 9. Further Extensions/Future Work"
   ]
  },
  {
   "cell_type": "markdown",
   "metadata": {},
   "source": [
    "As an extension of this project, the vehicle system has been linearized in order to enable the design of control systems to further stabilize the MagLev vehicle."
   ]
  },
  {
   "cell_type": "markdown",
   "metadata": {},
   "source": [
    "### 9.1 Linearization"
   ]
  },
  {
   "cell_type": "code",
   "execution_count": 67,
   "metadata": {},
   "outputs": [],
   "source": [
    "x = sm.Matrix([u_dx, u_dz, u_bpitch, u_broll, dx, dz, bpitch, broll])"
   ]
  },
  {
   "cell_type": "code",
   "execution_count": 68,
   "metadata": {},
   "outputs": [],
   "source": [
    "xeq = sm.zeros(8, 1)"
   ]
  },
  {
   "cell_type": "code",
   "execution_count": 69,
   "metadata": {},
   "outputs": [],
   "source": [
    "f = fr + frstar\n",
    "# me.find_dynamicsymbols(f), f.shape"
   ]
  },
  {
   "cell_type": "code",
   "execution_count": 70,
   "metadata": {},
   "outputs": [],
   "source": [
    "kdes_mat = sm.Matrix(kdes)"
   ]
  },
  {
   "cell_type": "code",
   "execution_count": 71,
   "metadata": {},
   "outputs": [
    {
     "data": {
      "image/png": "[encoded data removed]",
      "text/latex": [
       "$\\displaystyle \\left( 8, \\  1\\right)$"
      ],
      "text/plain": [
       "(8, 1)"
      ]
     },
     "execution_count": 71,
     "metadata": {},
     "output_type": "execute_result"
    }
   ],
   "source": [
    "hol = f.col_join(kdes_mat)\n",
    "hol.shape # length = 2n --> Holonomic System"
   ]
  },
  {
   "cell_type": "code",
   "execution_count": 72,
   "metadata": {},
   "outputs": [],
   "source": [
    "dx1, dz1, bpitch1, broll1, udx1, udz1, ubpitch1, ubroll1 = me.dynamicsymbols('d_{x1}, d_{z1}, b_{pitch1}, b_{roll1}, u_{dx1}, u_{dz1}, u_{bpitch1}, u_{broll1}')\n",
    "xd = sm.Matrix([dx1, dz1, bpitch1, broll1, udx1, udz1, ubpitch1, ubroll1])"
   ]
  },
  {
   "cell_type": "code",
   "execution_count": 73,
   "metadata": {},
   "outputs": [],
   "source": [
    "# {k: v for k, v in zip(x.diff(), xd)}"
   ]
  },
  {
   "cell_type": "code",
   "execution_count": 74,
   "metadata": {},
   "outputs": [],
   "source": [
    "hol = hol.subs({k: v for k, v in zip(x.diff(), xd)})"
   ]
  },
  {
   "cell_type": "code",
   "execution_count": 75,
   "metadata": {},
   "outputs": [],
   "source": [
    "# me.find_dynamicsymbols(hol)"
   ]
  },
  {
   "cell_type": "code",
   "execution_count": 76,
   "metadata": {},
   "outputs": [],
   "source": [
    "xeq_sub = {k: v for k, v in zip(x, xeq)}"
   ]
  },
  {
   "cell_type": "code",
   "execution_count": 77,
   "metadata": {},
   "outputs": [],
   "source": [
    "hol_lin = hol.subs(xeq_sub) + hol.jacobian(x).subs(xeq_sub)*(x - xeq)"
   ]
  },
  {
   "cell_type": "code",
   "execution_count": 78,
   "metadata": {},
   "outputs": [],
   "source": [
    "Mat = hol_lin.jacobian(xd)"
   ]
  },
  {
   "cell_type": "code",
   "execution_count": 79,
   "metadata": {},
   "outputs": [],
   "source": [
    "xdot = Mat.LUsolve(-(hol_lin - Mat*xd))"
   ]
  },
  {
   "cell_type": "code",
   "execution_count": 81,
   "metadata": {},
   "outputs": [],
   "source": [
    "A = xdot.jacobian(x)\n",
    "# A"
   ]
  },
  {
   "cell_type": "markdown",
   "metadata": {},
   "source": [
    "Future work would involve the development of a high-fidelity model of the vehicle, incorporating additional degrees of freedom, and also the development control systems to ensure stability and efficient control of the MagLev vehicle."
   ]
  },
  {
   "cell_type": "markdown",
   "metadata": {},
   "source": [
    "<br>\n",
    "<br>\n",
    "\n",
    "<img src=\"Media/Logo_2.png\" width=\"250\"/>"
   ]
  }
 ],
 "metadata": {
  "kernelspec": {
   "display_name": "Python 3",
   "language": "python",
   "name": "python3"
  },
  "language_info": {
   "codemirror_mode": {
    "name": "ipython",
    "version": 3
   },
   "file_extension": ".py",
   "mimetype": "text/x-python",
   "name": "python",
   "nbconvert_exporter": "python",
   "pygments_lexer": "ipython3",
   "version": "3.6.7"
  }
 },
 "nbformat": 4,
 "nbformat_minor": 4
}
